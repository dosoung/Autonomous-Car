{
 "cells": [
  {
   "cell_type": "code",
   "execution_count": 83,
   "metadata": {},
   "outputs": [],
   "source": [
    "import numpy as np\n",
    "import matplotlib.pyplot as plt\n",
    "import pandas as pd"
   ]
  },
  {
   "cell_type": "code",
   "execution_count": 2,
   "metadata": {},
   "outputs": [],
   "source": [
    "from sklearn import datasets"
   ]
  },
  {
   "cell_type": "code",
   "execution_count": 6,
   "metadata": {},
   "outputs": [],
   "source": [
    "np.random.seed(0)"
   ]
  },
  {
   "cell_type": "code",
   "execution_count": 97,
   "metadata": {},
   "outputs": [],
   "source": [
    "n_pts = 500\n",
    "X, y = datasets.make_circles(n_samples=n_pts, random_state=123, noise=0.1, factor=0.2)"
   ]
  },
  {
   "cell_type": "code",
   "execution_count": 98,
   "metadata": {},
   "outputs": [
    {
     "data": {
      "text/plain": [
       "<matplotlib.collections.PathCollection at 0x1a44dce0d0>"
      ]
     },
     "execution_count": 98,
     "metadata": {},
     "output_type": "execute_result"
    },
    {
     "data": {
      "image/png": "[encoded data removed]",
      "text/plain": [
       "<Figure size 432x288 with 1 Axes>"
      ]
     },
     "metadata": {
      "needs_background": "light"
     },
     "output_type": "display_data"
    }
   ],
   "source": [
    "plt.scatter(X[y==0,0],X[y==0,1])\n",
    "plt.scatter(X[y==1,0],X[y==1,1])"
   ]
  },
  {
   "cell_type": "code",
   "execution_count": 99,
   "metadata": {},
   "outputs": [],
   "source": [
    "from tensorflow.keras.models import Sequential\n",
    "from tensorflow.keras.layers import Dense\n",
    "from tensorflow.keras.optimizers import Adam"
   ]
  },
  {
   "cell_type": "code",
   "execution_count": 100,
   "metadata": {},
   "outputs": [],
   "source": [
    "model = Sequential()"
   ]
  },
  {
   "cell_type": "code",
   "execution_count": 101,
   "metadata": {},
   "outputs": [],
   "source": [
    "model.add(Dense(4, input_shape=(2,),activation='sigmoid'))\n",
    "model.add(Dense(1, activation='sigmoid'))\n",
    "\n",
    "model.compile(Adam(lr=0.01),loss='binary_crossentropy',metrics=['acc'])"
   ]
  },
  {
   "cell_type": "code",
   "execution_count": 102,
   "metadata": {},
   "outputs": [
    {
     "name": "stdout",
     "output_type": "stream",
     "text": [
      "Train on 500 samples\n",
      "Epoch 1/100\n",
      "500/500 [==============================] - 0s 401us/sample - loss: 0.6980 - acc: 0.6140\n",
      "Epoch 2/100\n",
      "500/500 [==============================] - 0s 47us/sample - loss: 0.6952 - acc: 0.4620\n",
      "Epoch 3/100\n",
      "500/500 [==============================] - 0s 40us/sample - loss: 0.6938 - acc: 0.5900\n",
      "Epoch 4/100\n",
      "500/500 [==============================] - 0s 45us/sample - loss: 0.6937 - acc: 0.4140\n",
      "Epoch 5/100\n",
      "500/500 [==============================] - 0s 45us/sample - loss: 0.6924 - acc: 0.6220\n",
      "Epoch 6/100\n",
      "500/500 [==============================] - 0s 47us/sample - loss: 0.6916 - acc: 0.6540\n",
      "Epoch 7/100\n",
      "500/500 [==============================] - 0s 47us/sample - loss: 0.6908 - acc: 0.6160\n",
      "Epoch 8/100\n",
      "500/500 [==============================] - 0s 42us/sample - loss: 0.6894 - acc: 0.7000\n",
      "Epoch 9/100\n",
      "500/500 [==============================] - 0s 43us/sample - loss: 0.6876 - acc: 0.7080\n",
      "Epoch 10/100\n",
      "500/500 [==============================] - 0s 44us/sample - loss: 0.6869 - acc: 0.5680\n",
      "Epoch 11/100\n",
      "500/500 [==============================] - 0s 39us/sample - loss: 0.6825 - acc: 0.6060\n",
      "Epoch 12/100\n",
      "500/500 [==============================] - 0s 46us/sample - loss: 0.6801 - acc: 0.8040\n",
      "Epoch 13/100\n",
      "500/500 [==============================] - 0s 46us/sample - loss: 0.6754 - acc: 0.6320\n",
      "Epoch 14/100\n",
      "500/500 [==============================] - 0s 44us/sample - loss: 0.6701 - acc: 0.7320\n",
      "Epoch 15/100\n",
      "500/500 [==============================] - 0s 50us/sample - loss: 0.6636 - acc: 0.8320\n",
      "Epoch 16/100\n",
      "500/500 [==============================] - 0s 40us/sample - loss: 0.6575 - acc: 0.7320\n",
      "Epoch 17/100\n",
      "500/500 [==============================] - 0s 45us/sample - loss: 0.6503 - acc: 0.7440\n",
      "Epoch 18/100\n",
      "500/500 [==============================] - 0s 46us/sample - loss: 0.6395 - acc: 0.8280\n",
      "Epoch 19/100\n",
      "500/500 [==============================] - 0s 40us/sample - loss: 0.6311 - acc: 0.8580\n",
      "Epoch 20/100\n",
      "500/500 [==============================] - 0s 45us/sample - loss: 0.6211 - acc: 0.8180\n",
      "Epoch 21/100\n",
      "500/500 [==============================] - 0s 44us/sample - loss: 0.6136 - acc: 0.8320\n",
      "Epoch 22/100\n",
      "500/500 [==============================] - 0s 38us/sample - loss: 0.6030 - acc: 0.7900\n",
      "Epoch 23/100\n",
      "500/500 [==============================] - 0s 50us/sample - loss: 0.5868 - acc: 0.8400\n",
      "Epoch 24/100\n",
      "500/500 [==============================] - 0s 42us/sample - loss: 0.5758 - acc: 0.8920\n",
      "Epoch 25/100\n",
      "500/500 [==============================] - 0s 48us/sample - loss: 0.5611 - acc: 0.8340\n",
      "Epoch 26/100\n",
      "500/500 [==============================] - 0s 49us/sample - loss: 0.5458 - acc: 0.8820\n",
      "Epoch 27/100\n",
      "500/500 [==============================] - 0s 48us/sample - loss: 0.5280 - acc: 0.8980\n",
      "Epoch 28/100\n",
      "500/500 [==============================] - 0s 45us/sample - loss: 0.5093 - acc: 0.9120\n",
      "Epoch 29/100\n",
      "500/500 [==============================] - 0s 44us/sample - loss: 0.4892 - acc: 0.9100\n",
      "Epoch 30/100\n",
      "500/500 [==============================] - 0s 47us/sample - loss: 0.4696 - acc: 0.9680\n",
      "Epoch 31/100\n",
      "500/500 [==============================] - 0s 45us/sample - loss: 0.4471 - acc: 0.9760\n",
      "Epoch 32/100\n",
      "500/500 [==============================] - 0s 45us/sample - loss: 0.4267 - acc: 0.9920\n",
      "Epoch 33/100\n",
      "500/500 [==============================] - 0s 48us/sample - loss: 0.4065 - acc: 0.9920\n",
      "Epoch 34/100\n",
      "500/500 [==============================] - 0s 42us/sample - loss: 0.3869 - acc: 0.9940\n",
      "Epoch 35/100\n",
      "500/500 [==============================] - 0s 47us/sample - loss: 0.3687 - acc: 0.9960\n",
      "Epoch 36/100\n",
      "500/500 [==============================] - 0s 45us/sample - loss: 0.3512 - acc: 0.9960\n",
      "Epoch 37/100\n",
      "500/500 [==============================] - 0s 54us/sample - loss: 0.3349 - acc: 0.9960\n",
      "Epoch 38/100\n",
      "500/500 [==============================] - 0s 43us/sample - loss: 0.3195 - acc: 0.9980\n",
      "Epoch 39/100\n",
      "500/500 [==============================] - 0s 48us/sample - loss: 0.3052 - acc: 0.9980\n",
      "Epoch 40/100\n",
      "500/500 [==============================] - 0s 45us/sample - loss: 0.2915 - acc: 0.9980\n",
      "Epoch 41/100\n",
      "500/500 [==============================] - 0s 52us/sample - loss: 0.2788 - acc: 0.9980\n",
      "Epoch 42/100\n",
      "500/500 [==============================] - 0s 45us/sample - loss: 0.2671 - acc: 1.0000\n",
      "Epoch 43/100\n",
      "500/500 [==============================] - 0s 51us/sample - loss: 0.2560 - acc: 1.0000\n",
      "Epoch 44/100\n",
      "500/500 [==============================] - 0s 51us/sample - loss: 0.2454 - acc: 1.0000\n",
      "Epoch 45/100\n",
      "500/500 [==============================] - 0s 57us/sample - loss: 0.2359 - acc: 1.0000\n",
      "Epoch 46/100\n",
      "500/500 [==============================] - 0s 43us/sample - loss: 0.2268 - acc: 1.0000\n",
      "Epoch 47/100\n",
      "500/500 [==============================] - 0s 51us/sample - loss: 0.2179 - acc: 1.0000\n",
      "Epoch 48/100\n",
      "500/500 [==============================] - 0s 46us/sample - loss: 0.2094 - acc: 1.0000\n",
      "Epoch 49/100\n",
      "500/500 [==============================] - 0s 47us/sample - loss: 0.2020 - acc: 1.0000\n",
      "Epoch 50/100\n",
      "500/500 [==============================] - 0s 43us/sample - loss: 0.1945 - acc: 1.0000\n",
      "Epoch 51/100\n",
      "500/500 [==============================] - 0s 51us/sample - loss: 0.1877 - acc: 1.0000\n",
      "Epoch 52/100\n",
      "500/500 [==============================] - 0s 46us/sample - loss: 0.1813 - acc: 1.0000\n",
      "Epoch 53/100\n",
      "500/500 [==============================] - 0s 49us/sample - loss: 0.1749 - acc: 1.0000\n",
      "Epoch 54/100\n",
      "500/500 [==============================] - 0s 47us/sample - loss: 0.1691 - acc: 1.0000\n",
      "Epoch 55/100\n",
      "500/500 [==============================] - 0s 44us/sample - loss: 0.1634 - acc: 1.0000\n",
      "Epoch 56/100\n",
      "500/500 [==============================] - 0s 43us/sample - loss: 0.1583 - acc: 1.0000\n",
      "Epoch 57/100\n",
      "500/500 [==============================] - 0s 42us/sample - loss: 0.1532 - acc: 1.0000\n",
      "Epoch 58/100\n",
      "500/500 [==============================] - 0s 46us/sample - loss: 0.1483 - acc: 1.0000\n",
      "Epoch 59/100\n",
      "500/500 [==============================] - 0s 43us/sample - loss: 0.1439 - acc: 1.0000\n",
      "Epoch 60/100\n",
      "500/500 [==============================] - 0s 41us/sample - loss: 0.1395 - acc: 1.0000\n",
      "Epoch 61/100\n",
      "500/500 [==============================] - 0s 42us/sample - loss: 0.1354 - acc: 1.0000\n",
      "Epoch 62/100\n",
      "500/500 [==============================] - 0s 43us/sample - loss: 0.1314 - acc: 1.0000\n",
      "Epoch 63/100\n",
      "500/500 [==============================] - 0s 45us/sample - loss: 0.1276 - acc: 1.0000\n",
      "Epoch 64/100\n",
      "500/500 [==============================] - 0s 42us/sample - loss: 0.1241 - acc: 1.0000\n",
      "Epoch 65/100\n",
      "500/500 [==============================] - 0s 43us/sample - loss: 0.1205 - acc: 1.0000\n",
      "Epoch 66/100\n",
      "500/500 [==============================] - 0s 43us/sample - loss: 0.1171 - acc: 1.0000\n",
      "Epoch 67/100\n",
      "500/500 [==============================] - 0s 48us/sample - loss: 0.1140 - acc: 1.0000\n",
      "Epoch 68/100\n",
      "500/500 [==============================] - 0s 44us/sample - loss: 0.1109 - acc: 1.0000\n",
      "Epoch 69/100\n",
      "500/500 [==============================] - 0s 38us/sample - loss: 0.1080 - acc: 1.0000\n",
      "Epoch 70/100\n",
      "500/500 [==============================] - 0s 44us/sample - loss: 0.1050 - acc: 1.0000\n",
      "Epoch 71/100\n",
      "500/500 [==============================] - 0s 43us/sample - loss: 0.1023 - acc: 1.0000\n",
      "Epoch 72/100\n",
      "500/500 [==============================] - 0s 40us/sample - loss: 0.0999 - acc: 1.0000\n",
      "Epoch 73/100\n",
      "500/500 [==============================] - 0s 46us/sample - loss: 0.0972 - acc: 1.0000\n",
      "Epoch 74/100\n",
      "500/500 [==============================] - 0s 46us/sample - loss: 0.0947 - acc: 1.0000\n",
      "Epoch 75/100\n",
      "500/500 [==============================] - 0s 43us/sample - loss: 0.0925 - acc: 1.0000\n",
      "Epoch 76/100\n",
      "500/500 [==============================] - 0s 47us/sample - loss: 0.0902 - acc: 1.0000\n",
      "Epoch 77/100\n",
      "500/500 [==============================] - 0s 44us/sample - loss: 0.0880 - acc: 1.0000\n",
      "Epoch 78/100\n",
      "500/500 [==============================] - 0s 41us/sample - loss: 0.0858 - acc: 1.0000\n",
      "Epoch 79/100\n",
      "500/500 [==============================] - 0s 42us/sample - loss: 0.0838 - acc: 1.0000\n",
      "Epoch 80/100\n",
      "500/500 [==============================] - 0s 45us/sample - loss: 0.0818 - acc: 1.0000\n",
      "Epoch 81/100\n",
      "500/500 [==============================] - 0s 42us/sample - loss: 0.0800 - acc: 1.0000\n",
      "Epoch 82/100\n"
     ]
    },
    {
     "name": "stdout",
     "output_type": "stream",
     "text": [
      "500/500 [==============================] - 0s 44us/sample - loss: 0.0781 - acc: 1.0000\n",
      "Epoch 83/100\n",
      "500/500 [==============================] - 0s 43us/sample - loss: 0.0764 - acc: 1.0000\n",
      "Epoch 84/100\n",
      "500/500 [==============================] - 0s 40us/sample - loss: 0.0746 - acc: 1.0000\n",
      "Epoch 85/100\n",
      "500/500 [==============================] - 0s 43us/sample - loss: 0.0729 - acc: 1.0000\n",
      "Epoch 86/100\n",
      "500/500 [==============================] - 0s 41us/sample - loss: 0.0713 - acc: 1.0000\n",
      "Epoch 87/100\n",
      "500/500 [==============================] - 0s 38us/sample - loss: 0.0697 - acc: 1.0000\n",
      "Epoch 88/100\n",
      "500/500 [==============================] - 0s 38us/sample - loss: 0.0682 - acc: 1.0000\n",
      "Epoch 89/100\n",
      "500/500 [==============================] - 0s 39us/sample - loss: 0.0667 - acc: 1.0000\n",
      "Epoch 90/100\n",
      "500/500 [==============================] - 0s 38us/sample - loss: 0.0653 - acc: 1.0000\n",
      "Epoch 91/100\n",
      "500/500 [==============================] - 0s 38us/sample - loss: 0.0639 - acc: 1.0000\n",
      "Epoch 92/100\n",
      "500/500 [==============================] - 0s 39us/sample - loss: 0.0626 - acc: 1.0000\n",
      "Epoch 93/100\n",
      "500/500 [==============================] - 0s 38us/sample - loss: 0.0613 - acc: 1.0000\n",
      "Epoch 94/100\n",
      "500/500 [==============================] - 0s 41us/sample - loss: 0.0600 - acc: 1.0000\n",
      "Epoch 95/100\n",
      "500/500 [==============================] - 0s 38us/sample - loss: 0.0588 - acc: 1.0000\n",
      "Epoch 96/100\n",
      "500/500 [==============================] - 0s 40us/sample - loss: 0.0576 - acc: 1.0000\n",
      "Epoch 97/100\n",
      "500/500 [==============================] - 0s 39us/sample - loss: 0.0564 - acc: 1.0000\n",
      "Epoch 98/100\n",
      "500/500 [==============================] - 0s 39us/sample - loss: 0.0553 - acc: 1.0000\n",
      "Epoch 99/100\n",
      "500/500 [==============================] - 0s 41us/sample - loss: 0.0542 - acc: 1.0000\n",
      "Epoch 100/100\n",
      "500/500 [==============================] - 0s 40us/sample - loss: 0.0532 - acc: 1.0000\n"
     ]
    },
    {
     "data": {
      "text/plain": [
       "<tensorflow.python.keras.callbacks.History at 0x1a44c75250>"
      ]
     },
     "execution_count": 102,
     "metadata": {},
     "output_type": "execute_result"
    }
   ],
   "source": [
    "model.fit(X,y,verbose=1,batch_size=20,epochs=100,shuffle='true')"
   ]
  },
  {
   "cell_type": "code",
   "execution_count": 104,
   "metadata": {},
   "outputs": [],
   "source": [
    "df = pd.DataFrame(model.history.history)"
   ]
  },
  {
   "cell_type": "code",
   "execution_count": 107,
   "metadata": {},
   "outputs": [
    {
     "data": {
      "text/plain": [
       "Text(0.5, 0, 'epochs')"
      ]
     },
     "execution_count": 107,
     "metadata": {},
     "output_type": "execute_result"
    },
    {
     "data": {
      "image/png": "[encoded data removed]",
      "text/plain": [
       "<Figure size 432x288 with 1 Axes>"
      ]
     },
     "metadata": {
      "needs_background": "light"
     },
     "output_type": "display_data"
    }
   ],
   "source": [
    "df.plot()\n",
    "plt.xlabel('epochs')"
   ]
  },
  {
   "cell_type": "code",
   "execution_count": 76,
   "metadata": {},
   "outputs": [
    {
     "data": {
      "text/plain": [
       "Text(0.5, 1.0, 'accuracy')"
      ]
     },
     "execution_count": 76,
     "metadata": {},
     "output_type": "execute_result"
    },
    {
     "data": {
      "image/png": "[encoded data removed]",
      "text/plain": [
       "<Figure size 432x288 with 1 Axes>"
      ]
     },
     "metadata": {
      "needs_background": "light"
     },
     "output_type": "display_data"
    }
   ],
   "source": [
    "plt.plot(predict.history['accuracy'])\n",
    "plt.xlabel('epoch')\n",
    "plt.legend('accuracy')\n",
    "plt.title('accuracy')"
   ]
  },
  {
   "cell_type": "code",
   "execution_count": null,
   "metadata": {},
   "outputs": [],
   "source": []
  }
 ],
 "metadata": {
  "kernelspec": {
   "display_name": "Python 3",
   "language": "python",
   "name": "python3"
  },
  "language_info": {
   "codemirror_mode": {
    "name": "ipython",
    "version": 3
   },
   "file_extension": ".py",
   "mimetype": "text/x-python",
   "name": "python",
   "nbconvert_exporter": "python",
   "pygments_lexer": "ipython3",
   "version": "3.7.6"
  }
 },
 "nbformat": 4,
 "nbformat_minor": 4
}
