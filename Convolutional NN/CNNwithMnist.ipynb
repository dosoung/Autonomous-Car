{
  "nbformat": 4,
  "nbformat_minor": 0,
  "metadata": {
    "kernelspec": {
      "name": "python3",
      "display_name": "Python 3"
    },
    "language_info": {
      "codemirror_mode": {
        "name": "ipython",
        "version": 3
      },
      "file_extension": ".py",
      "mimetype": "text/x-python",
      "name": "python",
      "nbconvert_exporter": "python",
      "pygments_lexer": "ipython3",
      "version": "3.7.6"
    },
    "colab": {
      "name": "CNNwithMnist.ipynb",
      "provenance": [],
      "collapsed_sections": []
    },
    "accelerator": "GPU"
  },
  "cells": [
    {
      "cell_type": "code",
      "metadata": {
        "id": "pbV9-iTYXWsU",
        "colab_type": "code",
        "colab": {}
      },
      "source": [
        "import numpy as np\n",
        "import matplotlib.pyplot as plt\n",
        "from tensorflow.keras.datasets import mnist\n",
        "from tensorflow.keras.models import Sequential\n",
        "from tensorflow.keras.layers import Dense, Dropout\n",
        "from tensorflow.keras.optimizers import Adam\n",
        "from tensorflow.keras.utils import to_categorical\n",
        "from tensorflow.keras.layers import Flatten, Conv2D, MaxPooling2D\n",
        "import random"
      ],
      "execution_count": 0,
      "outputs": []
    },
    {
      "cell_type": "code",
      "metadata": {
        "id": "1WziyOPeXWsY",
        "colab_type": "code",
        "colab": {}
      },
      "source": [
        "np.random.seed(0)"
      ],
      "execution_count": 0,
      "outputs": []
    },
    {
      "cell_type": "code",
      "metadata": {
        "id": "TrwUuooIXWsb",
        "colab_type": "code",
        "colab": {}
      },
      "source": [
        "(X_train,y_train), (X_test,y_test) = mnist.load_data()"
      ],
      "execution_count": 0,
      "outputs": []
    },
    {
      "cell_type": "code",
      "metadata": {
        "id": "ktt15jhXjFKn",
        "colab_type": "code",
        "outputId": "31b8ebab-8b5b-4586-a8e7-1eb54a090b02",
        "colab": {
          "base_uri": "https://localhost:8080/",
          "height": 34
        }
      },
      "source": [
        "y_train.shape"
      ],
      "execution_count": 0,
      "outputs": [
        {
          "output_type": "execute_result",
          "data": {
            "text/plain": [
              "(60000,)"
            ]
          },
          "metadata": {
            "tags": []
          },
          "execution_count": 43
        }
      ]
    },
    {
      "cell_type": "code",
      "metadata": {
        "id": "7y9f_RRCXWsd",
        "colab_type": "code",
        "outputId": "1f220e64-d6d3-44f7-fc87-f25b9a8a67b9",
        "colab": {
          "base_uri": "https://localhost:8080/",
          "height": 51
        }
      },
      "source": [
        "print(X_train.shape)\n",
        "print(X_test.shape)"
      ],
      "execution_count": 0,
      "outputs": [
        {
          "output_type": "stream",
          "text": [
            "(60000, 28, 28)\n",
            "(10000, 28, 28)\n"
          ],
          "name": "stdout"
        }
      ]
    },
    {
      "cell_type": "code",
      "metadata": {
        "id": "AAe7hXZOXWsh",
        "colab_type": "code",
        "colab": {}
      },
      "source": [
        "assert(X_train.shape[0] == y_train.shape[0]), \"The number of images is not equal to the number of labels\"\n",
        "assert(X_train.shape[1:] == (28,28)), \"The dimnensions of the images are not 28 * 28\"\n",
        "assert(X_test.shape[0] == y_test.shape[0]), 'The number of images is not equal to the number of labels'\n",
        "assert(X_test.shape[1:] == (28,28)), \"The dimnensions of the images are not 28 * 28\""
      ],
      "execution_count": 0,
      "outputs": []
    },
    {
      "cell_type": "code",
      "metadata": {
        "id": "tm-yZGG-XWsl",
        "colab_type": "code",
        "outputId": "7c46cb92-0ca7-4afe-c870-b2f1ec004d5b",
        "colab": {
          "base_uri": "https://localhost:8080/",
          "height": 718
        }
      },
      "source": [
        "num_of_samples = []\n",
        "cols=5\n",
        "num_classes = 10\n",
        "\n",
        "fig, axs = plt.subplots(nrows=num_classes , ncols=cols, figsize=(5,10))\n",
        "fig.tight_layout()\n",
        "\n",
        "for i in range(cols):\n",
        "    for j in range(num_classes):\n",
        "        x_selected = X_train[y_train == j]\n",
        "        axs[j][i].imshow(x_selected[random.randint(0,len(x_selected)-1),:,:],cmap = 'gray')\n",
        "        axs[j][i].axis(\"off\")\n",
        "        if i ==2:\n",
        "            axs[j][i].set_title(str(j))\n",
        "            num_of_samples.append(len(x_selected))\n",
        "            "
      ],
      "execution_count": 0,
      "outputs": [
        {
          "output_type": "display_data",
          "data": {
            "image/png": "[encoded data removed]",
            "text/plain": [
              "<Figure size 360x720 with 50 Axes>"
            ]
          },
          "metadata": {
            "tags": []
          }
        }
      ]
    },
    {
      "cell_type": "code",
      "metadata": {
        "id": "E5-l3l7-XWsn",
        "colab_type": "code",
        "outputId": "f2296cf3-0131-49dc-8d31-a7a6175bf59c",
        "colab": {
          "base_uri": "https://localhost:8080/",
          "height": 312
        }
      },
      "source": [
        "print(num_of_samples)\n",
        "plt.figure(figsize=(12, 4))\n",
        "plt.bar(range(0, num_classes), num_of_samples)\n",
        "plt.title(\"Distribution of the train dataset\")\n",
        "plt.xlabel(\"Class number\")\n",
        "plt.ylabel(\"Number of images\")\n",
        "plt.show()\n"
      ],
      "execution_count": 0,
      "outputs": [
        {
          "output_type": "stream",
          "text": [
            "[5923, 6742, 5958, 6131, 5842, 5421, 5918, 6265, 5851, 5949]\n"
          ],
          "name": "stdout"
        },
        {
          "output_type": "display_data",
          "data": {
            "image/png": "[encoded data removed]",
            "text/plain": [
              "<Figure size 864x288 with 1 Axes>"
            ]
          },
          "metadata": {
            "tags": []
          }
        }
      ]
    },
    {
      "cell_type": "code",
      "metadata": {
        "id": "m16a4nSUXWsq",
        "colab_type": "code",
        "colab": {}
      },
      "source": [
        "X_train = X_train.reshape(X_train.shape[0],28,28,1)\n",
        "X_test = X_test.reshape(X_test.shape[0],28,28,1)"
      ],
      "execution_count": 0,
      "outputs": []
    },
    {
      "cell_type": "code",
      "metadata": {
        "colab_type": "code",
        "id": "kTVsTWQHhMsa",
        "colab": {}
      },
      "source": [
        "X_train = X_train/255\n",
        "X_test = X_test/255"
      ],
      "execution_count": 0,
      "outputs": []
    },
    {
      "cell_type": "code",
      "metadata": {
        "id": "wHdLvLCiXWsu",
        "colab_type": "code",
        "colab": {}
      },
      "source": [
        "y_train = to_categorical(y_train,10)\n",
        "y_test = to_categorical(y_test,10)"
      ],
      "execution_count": 0,
      "outputs": []
    },
    {
      "cell_type": "code",
      "metadata": {
        "id": "RFD3BfT0jnXI",
        "colab_type": "code",
        "outputId": "525cbcc5-215d-405e-d4cf-08ab4cb13d0f",
        "colab": {
          "base_uri": "https://localhost:8080/",
          "height": 34
        }
      },
      "source": [
        "y_train.shape"
      ],
      "execution_count": 0,
      "outputs": [
        {
          "output_type": "execute_result",
          "data": {
            "text/plain": [
              "(60000, 10)"
            ]
          },
          "metadata": {
            "tags": []
          },
          "execution_count": 51
        }
      ]
    },
    {
      "cell_type": "code",
      "metadata": {
        "id": "IzNonEWTjrfz",
        "colab_type": "code",
        "outputId": "e0a252df-b7a7-4955-f976-3082fa033a8a",
        "colab": {
          "base_uri": "https://localhost:8080/",
          "height": 34
        }
      },
      "source": [
        "X_train.shape"
      ],
      "execution_count": 0,
      "outputs": [
        {
          "output_type": "execute_result",
          "data": {
            "text/plain": [
              "(60000, 28, 28, 1)"
            ]
          },
          "metadata": {
            "tags": []
          },
          "execution_count": 52
        }
      ]
    },
    {
      "cell_type": "code",
      "metadata": {
        "id": "UekGwkJnXWsz",
        "colab_type": "code",
        "colab": {}
      },
      "source": [
        "#define the leNet_model function\n",
        "def leNet_model():\n",
        "  model = Sequential()\n",
        "  model.add(Conv2D(30, (5, 5), input_shape=(28,28,1), activation='relu')) #30개 filter 5*5크기 padding을 이용해 이미지의 크기가 작아주는 것을 방지(padding사용 안함 이미지가 주로 중앙에있어서 경계선 값 사오간 없음) #strides 몇칸 filter를 이동시킬건지\n",
        "  model.add(MaxPooling2D(pool_size=(2, 2))) # imagesize is be half\n",
        "  model.add(Conv2D(15,(3,3),activation='relu'))\n",
        "  model.add(MaxPooling2D(pool_size=(2,2)))\n",
        "  #FullyConnect\n",
        "  model.add(Flatten()) #(5,5,15) shape을 하나의 벡터값으로 만들어줘야 fully connect가 가능하다.\n",
        "  model.add(Dense(500,activation='relu'))\n",
        "  model.add(Dropout(0.5))\n",
        "  #outputlayer\n",
        "  model.add(Dense(num_classes,activation='softmax'))\n",
        "  #lr = learning rate\n",
        "  model.compile(Adam(lr=0.01),loss='categorical_crossentropy',metrics=['accuracy'])\n",
        "  return model\n",
        "  "
      ],
      "execution_count": 0,
      "outputs": []
    },
    {
      "cell_type": "code",
      "metadata": {
        "id": "5r77WheyidxG",
        "colab_type": "code",
        "colab": {}
      },
      "source": [
        "model = leNet_model()"
      ],
      "execution_count": 0,
      "outputs": []
    },
    {
      "cell_type": "code",
      "metadata": {
        "id": "nERYTsWHisQs",
        "colab_type": "code",
        "outputId": "107c5865-d805-4898-ea3a-1439a1841da0",
        "colab": {
          "base_uri": "https://localhost:8080/",
          "height": 374
        }
      },
      "source": [
        "model.fit(X_train,y_train,\n",
        "          batch_size=512,\n",
        "          epochs=10,\n",
        "          validation_split=0.1,\n",
        "          verbose=1,\n",
        "          shuffle=1\n",
        "          )"
      ],
      "execution_count": 0,
      "outputs": [
        {
          "output_type": "stream",
          "text": [
            "Epoch 1/10\n",
            "106/106 [==============================] - 1s 8ms/step - loss: 0.2564 - accuracy: 0.9194 - val_loss: 0.0644 - val_accuracy: 0.9823\n",
            "Epoch 2/10\n",
            "106/106 [==============================] - 1s 7ms/step - loss: 0.0719 - accuracy: 0.9773 - val_loss: 0.0454 - val_accuracy: 0.9863\n",
            "Epoch 3/10\n",
            "106/106 [==============================] - 1s 7ms/step - loss: 0.0571 - accuracy: 0.9829 - val_loss: 0.0563 - val_accuracy: 0.9850\n",
            "Epoch 4/10\n",
            "106/106 [==============================] - 1s 7ms/step - loss: 0.0516 - accuracy: 0.9837 - val_loss: 0.0399 - val_accuracy: 0.9878\n",
            "Epoch 5/10\n",
            "106/106 [==============================] - 1s 7ms/step - loss: 0.0434 - accuracy: 0.9856 - val_loss: 0.0389 - val_accuracy: 0.9897\n",
            "Epoch 6/10\n",
            "106/106 [==============================] - 1s 7ms/step - loss: 0.0396 - accuracy: 0.9876 - val_loss: 0.0501 - val_accuracy: 0.9875\n",
            "Epoch 7/10\n",
            "106/106 [==============================] - 1s 7ms/step - loss: 0.0427 - accuracy: 0.9872 - val_loss: 0.0431 - val_accuracy: 0.9902\n",
            "Epoch 8/10\n",
            "106/106 [==============================] - 1s 7ms/step - loss: 0.0377 - accuracy: 0.9878 - val_loss: 0.0420 - val_accuracy: 0.9895\n",
            "Epoch 9/10\n",
            "106/106 [==============================] - 1s 7ms/step - loss: 0.0349 - accuracy: 0.9899 - val_loss: 0.0532 - val_accuracy: 0.9875\n",
            "Epoch 10/10\n",
            "106/106 [==============================] - 1s 7ms/step - loss: 0.0321 - accuracy: 0.9900 - val_loss: 0.0475 - val_accuracy: 0.9888\n"
          ],
          "name": "stdout"
        },
        {
          "output_type": "execute_result",
          "data": {
            "text/plain": [
              "<tensorflow.python.keras.callbacks.History at 0x7f658df0d2e8>"
            ]
          },
          "metadata": {
            "tags": []
          },
          "execution_count": 55
        }
      ]
    },
    {
      "cell_type": "code",
      "metadata": {
        "id": "VZk60oR4i3Zk",
        "colab_type": "code",
        "colab": {}
      },
      "source": [
        "import pandas as pd"
      ],
      "execution_count": 0,
      "outputs": []
    },
    {
      "cell_type": "code",
      "metadata": {
        "id": "XDcrWPWBkDZv",
        "colab_type": "code",
        "colab": {}
      },
      "source": [
        "history = pd.DataFrame(model.history.history)"
      ],
      "execution_count": 0,
      "outputs": []
    },
    {
      "cell_type": "code",
      "metadata": {
        "id": "u_-wIXRikFiN",
        "colab_type": "code",
        "outputId": "867e1529-158b-4dd2-d742-be7afac47d3a",
        "colab": {
          "base_uri": "https://localhost:8080/",
          "height": 34
        }
      },
      "source": [
        "history.columns"
      ],
      "execution_count": 0,
      "outputs": [
        {
          "output_type": "execute_result",
          "data": {
            "text/plain": [
              "Index(['loss', 'accuracy', 'val_loss', 'val_accuracy'], dtype='object')"
            ]
          },
          "metadata": {
            "tags": []
          },
          "execution_count": 58
        }
      ]
    },
    {
      "cell_type": "code",
      "metadata": {
        "id": "mGCbJfOukJ4x",
        "colab_type": "code",
        "outputId": "b3020a13-2cc6-4ae1-892f-c4a1126de523",
        "colab": {
          "base_uri": "https://localhost:8080/",
          "height": 530
        }
      },
      "source": [
        "history[['loss','val_loss']].plot()\n",
        "history[['accuracy','val_accuracy']].plot()"
      ],
      "execution_count": 0,
      "outputs": [
        {
          "output_type": "execute_result",
          "data": {
            "text/plain": [
              "<matplotlib.axes._subplots.AxesSubplot at 0x7f658bd79128>"
            ]
          },
          "metadata": {
            "tags": []
          },
          "execution_count": 59
        },
        {
          "output_type": "display_data",
          "data": {
            "image/png": "[encoded data removed]",
            "text/plain": [
              "<Figure size 432x288 with 1 Axes>"
            ]
          },
          "metadata": {
            "tags": []
          }
        },
        {
          "output_type": "display_data",
          "data": {
            "image/png": "[encoded data removed]",
            "text/plain": [
              "<Figure size 432x288 with 1 Axes>"
            ]
          },
          "metadata": {
            "tags": []
          }
        }
      ]
    },
    {
      "cell_type": "code",
      "metadata": {
        "id": "0imMZwwlklEc",
        "colab_type": "code",
        "colab": {}
      },
      "source": [
        "import requests\n",
        "from PIL import Image\n",
        "url = 'https://www.researchgate.net/profile/Jose_Sempere/publication/221258631/figure/fig1/AS:305526891139075@1449854695342/Handwritten-digit-2.png'\n",
        "response = requests.get(url,stream=True)"
      ],
      "execution_count": 0,
      "outputs": []
    },
    {
      "cell_type": "code",
      "metadata": {
        "id": "0f0y7OOxkzue",
        "colab_type": "code",
        "colab": {}
      },
      "source": [
        "image = Image.open(response.raw)"
      ],
      "execution_count": 0,
      "outputs": []
    },
    {
      "cell_type": "code",
      "metadata": {
        "id": "M8bEv58Yk1bz",
        "colab_type": "code",
        "outputId": "85f6f744-47f3-4156-9d11-31714e81e924",
        "colab": {
          "base_uri": "https://localhost:8080/",
          "height": 286
        }
      },
      "source": [
        "plt.imshow(image)"
      ],
      "execution_count": 0,
      "outputs": [
        {
          "output_type": "execute_result",
          "data": {
            "text/plain": [
              "<matplotlib.image.AxesImage at 0x7f658bd3d780>"
            ]
          },
          "metadata": {
            "tags": []
          },
          "execution_count": 62
        },
        {
          "output_type": "display_data",
          "data": {
            "image/png": "[encoded data removed]",
            "text/plain": [
              "<Figure size 432x288 with 1 Axes>"
            ]
          },
          "metadata": {
            "tags": []
          }
        }
      ]
    },
    {
      "cell_type": "code",
      "metadata": {
        "id": "2ERNQVDtlBs3",
        "colab_type": "code",
        "colab": {}
      },
      "source": [
        "import cv2"
      ],
      "execution_count": 0,
      "outputs": []
    },
    {
      "cell_type": "code",
      "metadata": {
        "id": "ZOoCvhCUlV1N",
        "colab_type": "code",
        "colab": {}
      },
      "source": [
        "image_array = np.asarray(image)"
      ],
      "execution_count": 0,
      "outputs": []
    },
    {
      "cell_type": "code",
      "metadata": {
        "id": "kw4wJrsWlKuu",
        "colab_type": "code",
        "colab": {}
      },
      "source": [
        "resized = cv2.resize(image_array,(28,28))"
      ],
      "execution_count": 0,
      "outputs": []
    },
    {
      "cell_type": "code",
      "metadata": {
        "id": "w-QBPmZylRMl",
        "colab_type": "code",
        "colab": {}
      },
      "source": [
        "gray_scale = cv2.cvtColor(resized,cv2.COLOR_BGR2GRAY)"
      ],
      "execution_count": 0,
      "outputs": []
    },
    {
      "cell_type": "code",
      "metadata": {
        "id": "CaRk7DBklsW6",
        "colab_type": "code",
        "colab": {}
      },
      "source": [
        "image = cv2.bitwise_not(gray_scale)"
      ],
      "execution_count": 0,
      "outputs": []
    },
    {
      "cell_type": "code",
      "metadata": {
        "id": "sHY5H4mVmQ2t",
        "colab_type": "code",
        "colab": {}
      },
      "source": [
        "image = image/255"
      ],
      "execution_count": 0,
      "outputs": []
    },
    {
      "cell_type": "code",
      "metadata": {
        "id": "sAg8w-IKneU0",
        "colab_type": "code",
        "colab": {}
      },
      "source": [
        "image = image.reshape(1,28,28,1)"
      ],
      "execution_count": 0,
      "outputs": []
    },
    {
      "cell_type": "code",
      "metadata": {
        "id": "DihhNMI1mzqa",
        "colab_type": "code",
        "colab": {}
      },
      "source": [
        "prediction = model.predict_classes(image)"
      ],
      "execution_count": 0,
      "outputs": []
    },
    {
      "cell_type": "code",
      "metadata": {
        "id": "j4WzU-D2m6Pc",
        "colab_type": "code",
        "outputId": "d217d031-42d1-4fea-b7fb-01fd38cf42c9",
        "colab": {
          "base_uri": "https://localhost:8080/",
          "height": 34
        }
      },
      "source": [
        "print(prediction)"
      ],
      "execution_count": 0,
      "outputs": [
        {
          "output_type": "stream",
          "text": [
            "[2]\n"
          ],
          "name": "stdout"
        }
      ]
    },
    {
      "cell_type": "code",
      "metadata": {
        "id": "fC8wfoLYnm4h",
        "colab_type": "code",
        "colab": {}
      },
      "source": [
        "score = model.evaluate(X_test,y_test,verbose=0)"
      ],
      "execution_count": 0,
      "outputs": []
    },
    {
      "cell_type": "code",
      "metadata": {
        "id": "8M5BXV-7tTuo",
        "colab_type": "code",
        "outputId": "f6866228-5377-4ca3-c695-436b3eed6200",
        "colab": {
          "base_uri": "https://localhost:8080/",
          "height": 51
        }
      },
      "source": [
        "print(\"loss: \", score[0])\n",
        "print(\"acc: \", score[1])"
      ],
      "execution_count": 0,
      "outputs": [
        {
          "output_type": "stream",
          "text": [
            "loss:  0.033428579568862915\n",
            "acc:  0.9900000095367432\n"
          ],
          "name": "stdout"
        }
      ]
    },
    {
      "cell_type": "code",
      "metadata": {
        "id": "N6nqk_IVtTSP",
        "colab_type": "code",
        "colab": {}
      },
      "source": [
        "  "
      ],
      "execution_count": 0,
      "outputs": []
    }
  ]
}